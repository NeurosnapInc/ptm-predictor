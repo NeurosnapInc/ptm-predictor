{
 "cells": [
  {
   "cell_type": "code",
   "execution_count": 1,
   "id": "fe71d910-5b29-417b-978d-babcef99f6ba",
   "metadata": {
    "execution": {
     "iopub.execute_input": "2025-06-29T05:45:13.901925Z",
     "iopub.status.busy": "2025-06-29T05:45:13.901271Z",
     "iopub.status.idle": "2025-06-29T05:45:17.903865Z",
     "shell.execute_reply": "2025-06-29T05:45:17.902876Z",
     "shell.execute_reply.started": "2025-06-29T05:45:13.901896Z"
    }
   },
   "outputs": [],
   "source": [
    "import os\n",
    "import shutil\n",
    "\n",
    "files = [\n",
    "    '../data_final/modified_residues/phosphorylation_positions.csv'\n",
    "]\n",
    "\n",
    "for file in files:\n",
    "    filename = os.path.basename(file)\n",
    "    shutil.copy2(file, f'./input_files/{filename}')"
   ]
  },
  {
   "cell_type": "code",
   "execution_count": 2,
   "id": "6de200cc-ca0a-472b-80e1-a04a5e9a9a77",
   "metadata": {
    "execution": {
     "iopub.execute_input": "2025-06-29T05:45:22.708092Z",
     "iopub.status.busy": "2025-06-29T05:45:22.707532Z",
     "iopub.status.idle": "2025-06-29T05:47:12.466446Z",
     "shell.execute_reply": "2025-06-29T05:47:12.465530Z",
     "shell.execute_reply.started": "2025-06-29T05:45:22.708059Z"
    }
   },
   "outputs": [
    {
     "name": "stdout",
     "output_type": "stream",
     "text": [
      "Saved 1768608 sequences to input_data.csv\n"
     ]
    }
   ],
   "source": [
    "import pandas as pd\n",
    "import glob\n",
    "import os\n",
    "\n",
    "folder_path = './input_files/'\n",
    "csv_files = glob.glob(f'{folder_path}*.csv')\n",
    "all_sequences = set()\n",
    "for csv_file in csv_files:\n",
    "    df = pd.read_csv(csv_file)\n",
    "    all_sequences.update(df['sequence'].tolist())\n",
    "sequence_dict = {}\n",
    "for seq in all_sequences:\n",
    "    sequence_dict[seq] = [None] * len(csv_files)\n",
    "for csv_index, csv_file in enumerate(csv_files):\n",
    "    df = pd.read_csv(csv_file, dtype={'positions': str})\n",
    "    for _, row in df.iterrows():\n",
    "        positions = [int(pos) for pos in row['positions'].split(',')]\n",
    "        sequence_dict[row['sequence']][csv_index] = positions\n",
    "result_data = []\n",
    "for seq, positions in sequence_dict.items():\n",
    "    result_data.append({'sequence': seq, 'positions': positions})\n",
    "result_df = pd.DataFrame(result_data)\n",
    "result_df.to_csv('input_data.csv', index=False)\n",
    "print(f\"Saved {len(result_df)} sequences to input_data.csv\")"
   ]
  },
  {
   "cell_type": "code",
   "execution_count": 3,
   "id": "d618c279-302d-45d6-8c96-d6e0bd9fba5b",
   "metadata": {
    "execution": {
     "iopub.execute_input": "2025-06-29T05:47:44.752014Z",
     "iopub.status.busy": "2025-06-29T05:47:44.751221Z",
     "iopub.status.idle": "2025-06-29T05:48:08.072096Z",
     "shell.execute_reply": "2025-06-29T05:48:08.071343Z",
     "shell.execute_reply.started": "2025-06-29T05:47:44.751981Z"
    }
   },
   "outputs": [],
   "source": [
    "import pandas as pd\n",
    "from sklearn.model_selection import train_test_split\n",
    "\n",
    "df = pd.read_csv('input_data.csv')\n",
    "\n",
    "# First split: 90% train, 10% temp (for val+test)\n",
    "train_df, temp_df = train_test_split(df, test_size=0.1, random_state=42)\n",
    "\n",
    "# Second split: Split the 10% into 5% val and 5% test\n",
    "val_df, test_df = train_test_split(temp_df, test_size=0.5, random_state=42)\n",
    "\n",
    "# Save the splits\n",
    "train_df.to_csv('data/train.csv', index=False)\n",
    "val_df.to_csv('data/val.csv', index=False)\n",
    "test_df.to_csv('data/test.csv', index=False)"
   ]
  },
  {
   "cell_type": "code",
   "execution_count": null,
   "id": "cd00fbd3-fe58-4288-9833-46a96618db25",
   "metadata": {},
   "outputs": [],
   "source": []
  }
 ],
 "metadata": {
  "kernelspec": {
   "display_name": "Python 3 (ipykernel)",
   "language": "python",
   "name": "python3"
  },
  "language_info": {
   "codemirror_mode": {
    "name": "ipython",
    "version": 3
   },
   "file_extension": ".py",
   "mimetype": "text/x-python",
   "name": "python",
   "nbconvert_exporter": "python",
   "pygments_lexer": "ipython3",
   "version": "3.12.9"
  }
 },
 "nbformat": 4,
 "nbformat_minor": 5
}
